{
 "cells": [
  {
   "cell_type": "code",
   "execution_count": 108,
   "metadata": {},
   "outputs": [],
   "source": [
    "import sys\n",
    "import math\n",
    "import pandas as pd\n",
    "import numpy as np"
   ]
  },
  {
   "cell_type": "code",
   "execution_count": 93,
   "metadata": {},
   "outputs": [],
   "source": [
    "def getKFoldData(data, kfold ):\n",
    "    train_arr = list()\n",
    "    test_arr = list()\n",
    "    #data = pd.read_csv(path)\n",
    "    dataLen = len(data)\n",
    "    segmentSize = int(dataLen/kfold)\n",
    "#     np.random.seed(kfold)\n",
    "#     seedList = np.random.randint(low=0, high=200, size=kfold)\n",
    "\n",
    "#     for seed in seedList:\n",
    "#         tempDf = data.copy()\n",
    "#         np.random.seed(seed)\n",
    "#         tempDf.apply(np.random.shuffle, axis=0)\n",
    "#         #print(tempDf.iloc[0:int(dataLen/10)])\n",
    "#         test_arr.append(tempDf.iloc[0:segmentSize])\n",
    "#         train_arr.append(tempDf.iloc[segmentSize: ].reset_index())\n",
    "    tempDf = data.copy()\n",
    "    np.random.seed(kfold)\n",
    "    tempDf.apply(np.random.shuffle, axis=0)\n",
    "    \n",
    "    \n",
    "    for i in range(0, kfold):\n",
    "            \n",
    "            #print(tempDf.iloc[0:int(dataLen/10)])\n",
    "            testSegment = tempDf.iloc[(i*segmentSize): (i*segmentSize + segmentSize)]\n",
    "            test_arr.append(testSegment)\n",
    "            train_arr.append(tempDf.drop(tempDf.index[(i*segmentSize): (i*segmentSize + segmentSize)]))\n",
    "            #train_arr.append(tempDf.iloc[int(dataLen/10): ].reset_index())\n",
    "\n",
    "    return train_arr, test_arr"
   ]
  },
  {
   "cell_type": "code",
   "execution_count": 94,
   "metadata": {},
   "outputs": [],
   "source": [
    "def remainder(df, df_subsets, predict_attr, classifiers):\n",
    "    num_data = df.shape[0]\n",
    "    remainder = float(0)\n",
    "    for df_sub in df_subsets:\n",
    "        if df_sub.shape[0] > 1:\n",
    "            remainder += float(df_sub.shape[0]/num_data)*info_entropy(df_sub, predict_attr, classifiers)\n",
    "    return remainder\n"
   ]
  },
  {
   "cell_type": "code",
   "execution_count": 95,
   "metadata": {},
   "outputs": [],
   "source": [
    "class Node(object):\n",
    "    def __init__(self, attribute, threshold):\n",
    "        self.attr = attribute\n",
    "        self.thres = threshold\n",
    "        self.left = None\n",
    "        self.right = None\n",
    "        self.leaf = False\n",
    "        self.predict = None\n",
    "        self.entropy = None"
   ]
  },
  {
   "cell_type": "code",
   "execution_count": 115,
   "metadata": {},
   "outputs": [],
   "source": [
    "def info_entropy(df, predict_attr, classifiers):\n",
    "    countList = num_class(df, predict_attr, classifiers)\n",
    "    count = 0 \n",
    "    summation = 0\n",
    "    for i in range(0,len(countList)):\n",
    "        summation += countList[i]\n",
    "        if countList[i] != 0:\n",
    "            count += 1\n",
    "            \n",
    "    \n",
    "    I = 0\n",
    "    if count == 1:\n",
    "        I = 0\n",
    "    else:\n",
    "        for co in countList:\n",
    "           \n",
    "            I += ((-1*co)/(summation))*math.log(co/(summation), 2) \n",
    "    return I"
   ]
  },
  {
   "cell_type": "code",
   "execution_count": 97,
   "metadata": {},
   "outputs": [],
   "source": [
    "def info_gain(df, attribute, predict_attr, threshold, classifiers):\n",
    "    sub_1 = df[df.loc[:, attribute] < threshold]\n",
    "    sub_2 = df[df.loc[:, attribute] > threshold]\n",
    "    ig = info_entropy(df, predict_attr, classifiers) - remainder(df, [sub_1, sub_2], predict_attr, classifiers)\n",
    "    return ig\n"
   ]
  },
  {
   "cell_type": "code",
   "execution_count": 98,
   "metadata": {},
   "outputs": [],
   "source": [
    "def select_threshold(df, attribute, predict_attr, classifiers):\n",
    "    values = df.loc[:, attribute].tolist()\n",
    "    values = [ float(x) for x in values]\n",
    "    values = set(values)\n",
    "    values = list(values)\n",
    "    values.sort()\n",
    "    max_ig = float(\"-inf\")\n",
    "    thres_val = 0\n",
    "    for i in range(0, len(values) - 1):\n",
    "        thres = (values[i] + values[i+1])/2\n",
    "        ig = info_gain(df, attribute, predict_attr, thres, classifiers)\n",
    "        if ig > max_ig:\n",
    "            max_ig = ig\n",
    "            thres_val = thres\n",
    "    return thres_val"
   ]
  },
  {
   "cell_type": "code",
   "execution_count": 99,
   "metadata": {},
   "outputs": [],
   "source": [
    "def choose_attr(df, attributes, predict_attr, classifiers):\n",
    "    max_info_gain = float(\"-inf\")\n",
    "    best_attr = None\n",
    "    threshold = 0\n",
    "    for attr in attributes:\n",
    "        thres = select_threshold(df, attr, predict_attr, classifiers)\n",
    "        ig = info_gain(df, attr, predict_attr, thres, classifiers)\n",
    "        if ig > max_info_gain:\n",
    "            max_info_gain = ig\n",
    "            best_attr = attr\n",
    "            threshold = thres\n",
    "    return best_attr, threshold"
   ]
  },
  {
   "cell_type": "code",
   "execution_count": 100,
   "metadata": {},
   "outputs": [],
   "source": [
    "def num_class(df, predict_attr, classifiers):\n",
    "    countList = list()\n",
    "    for i in classifiers:\n",
    "        countList.append(df[df.loc[:, predict_attr]==i].shape[0])\n",
    "\n",
    "    return countList \n"
   ]
  },
  {
   "cell_type": "code",
   "execution_count": 101,
   "metadata": {},
   "outputs": [],
   "source": [
    "def build_tree(df, cols, predict_attr, classifiers):\n",
    "    countList = num_class(df, predict_attr, classifiers)\n",
    "    count = 0\n",
    "    setClass = None\n",
    "    for i in range(0,len(countList)):\n",
    "        if countList[i] != 0:\n",
    "            count += 1\n",
    "            setClass = i\n",
    "            \n",
    "    if count == 1:\n",
    "        leaf = Node(None,None)\n",
    "        leaf.leaf = True\n",
    "        leaf.predict = setClass\n",
    "        return leaf\n",
    "    else:\n",
    "        best_attr, threshold = choose_attr(df, cols, predict_attr, classifiers)\n",
    "        tree = Node(best_attr, threshold)\n",
    "        tree.entropy = info_entropy(df, predict_attr, classifiers)\n",
    "        sub_1 = df[df.loc[:, best_attr] < threshold]\n",
    "        sub_2 = df[df.loc[:, best_attr] > threshold]\n",
    "        tree.left = build_tree(sub_1, cols, predict_attr, classifiers)\n",
    "        tree.right = build_tree(sub_2, cols, predict_attr, classifiers)\n",
    "        return tree\n"
   ]
  },
  {
   "cell_type": "code",
   "execution_count": 117,
   "metadata": {},
   "outputs": [],
   "source": [
    "def predict(node, row_df):\n",
    "    if node.leaf:\n",
    "        return node.predict\n",
    "    if row_df.loc[node.attr] <= node.thres:\n",
    "        return predict(node.left, row_df)\n",
    "    elif row_df[node.attr] > node.thres:\n",
    "        return predict(node.right, row_df)\n"
   ]
  },
  {
   "cell_type": "code",
   "execution_count": 103,
   "metadata": {},
   "outputs": [],
   "source": [
    "def test_predictions(root, df, classifierName):\n",
    "    num_data = df.shape[0]\n",
    "    num_correct = 0\n",
    "    for index,row in df.iterrows():\n",
    "        prediction = predict(root, row)\n",
    "        if prediction == row.loc[classifierName]:\n",
    "            num_correct += 1\n",
    "    return round(num_correct/num_data, 2)"
   ]
  },
  {
   "cell_type": "code",
   "execution_count": 104,
   "metadata": {},
   "outputs": [],
   "source": [
    "def print_tree(root, level):\n",
    "    #print(counter*\" \", end=\"\")\n",
    "    if root.leaf:\n",
    "        print(\"leaf predict: \"+str(root.predict))\n",
    "    else:\n",
    "        print(\"node condition: \"+root.attr+\">\"+str(root.thres) +\"  entropy:\"+str(root.entropy))\n",
    "    if root.left:\n",
    "        print_tree(root.left, level + 1)\n",
    "    if root.right:\n",
    "        print_tree(root.right, level + 1)"
   ]
  },
  {
   "cell_type": "code",
   "execution_count": 105,
   "metadata": {},
   "outputs": [],
   "source": [
    "def clean(csv_file_name):\n",
    "    df = pd.read_csv(csv_file_name, header=None)\n",
    "    #df.columns = ['K', 'Na', 'CL', 'HCO', 'Endotoxin', 'Anioingap', 'PLA2', 'SDH', 'GLDH', 'TPP', 'Breath rate', 'PCV', 'Pulse rate', 'Fibrinogen', 'Dimer', 'FibPerDim', 'Diagnosis']\n",
    "    cols = df.columns\n",
    "    df[cols] = df[cols].apply(pd.to_numeric, errors='coerce')\n",
    "    return df\n"
   ]
  },
  {
   "cell_type": "code",
   "execution_count": null,
   "metadata": {},
   "outputs": [
    {
     "name": "stdout",
     "output_type": "stream",
     "text": [
      "[1, 2, 3, 4, 5, 6, 7, 8, 9, 10, 11, 12, 13]\n"
     ]
    }
   ],
   "source": [
    "df_train = clean('wine.data')\n",
    "dataLen = df_train.shape[0]\n",
    "train_arr = list()\n",
    "test_arr = list()\n",
    "kFold = None\n",
    "if dataLen < 200 :\n",
    "    kFold = dataLen\n",
    "    \n",
    "else :\n",
    "    kFold = 10\n",
    "# print(df_train)\n",
    "train_arr, test_arr = getKFoldData(df_train, kFold)\n",
    "classifierName = 0\n",
    "uniqueClassifier = list(range(0,df_train.loc[:, classifierName].nunique()))\n",
    "# attributes =  ['K', 'Na', 'CL', 'HCO', 'Endotoxin', 'Anioingap', 'PLA2', 'SDH', 'GLDH', 'TPP', 'Breath rate', 'PCV', 'Pulse rate', 'Fibrinogen', 'Dimer', 'FibPerDim']\n",
    "attributes = list(range(0,df_train.shape[1]))\n",
    "\n",
    "\n",
    "attributes.remove(classifierName)\n",
    "# print(attributes)\n",
    "# for i in range(0, fr_train.shape[1]):\n",
    "#     if i != int(classifierName):\n",
    "#         attributes.append(str(i))\n",
    "\n",
    "\n",
    "\n",
    "accuracy = 0\n",
    "\n",
    "for i in range(0, kFold):\n",
    "    root = build_tree(train_arr[i], attributes, classifierName, uniqueClassifier)\n",
    "# df_test = clean('horseTest.txt')\n",
    "    accuracy += test_predictions(root, test_arr[i], classifierName)*100.0\n",
    "\n",
    "    \n",
    "print(\"accuracy: \"+str(accuracy/kFold))\n",
    "# print(str(test_predictions(root, df_test, classifierName)*100.0) + '%')\n"
   ]
  },
  {
   "cell_type": "code",
   "execution_count": null,
   "metadata": {},
   "outputs": [],
   "source": []
  }
 ],
 "metadata": {
  "kernelspec": {
   "display_name": "Python 3",
   "language": "python",
   "name": "python3"
  },
  "language_info": {
   "codemirror_mode": {
    "name": "ipython",
    "version": 3
   },
   "file_extension": ".py",
   "mimetype": "text/x-python",
   "name": "python",
   "nbconvert_exporter": "python",
   "pygments_lexer": "ipython3",
   "version": "3.7.1"
  }
 },
 "nbformat": 4,
 "nbformat_minor": 2
}
